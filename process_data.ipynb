{
 "cells": [
  {
   "cell_type": "code",
   "execution_count": 12,
   "metadata": {},
   "outputs": [],
   "source": [
    "import pandas as pd\n",
    "import numpy as np\n",
    "from pandas.api.types import is_string_dtype, is_numeric_dtype\n",
    "import string"
   ]
  },
  {
   "cell_type": "code",
   "execution_count": 5,
   "metadata": {},
   "outputs": [
    {
     "data": {
      "text/plain": [
       "array([0.04788349, 0.04788349, 0.04788349, 0.04788349, 0.04788349,\n",
       "       0.04788349, 0.04788349, 0.04788349, 0.04788349, 0.04788349,\n",
       "       0.04788349, 0.04788349, 0.04788349, 0.04788349, 0.04788349,\n",
       "       0.04788349, 0.04788349, 0.04788349, 0.04788349, 0.04788349,\n",
       "       0.04788349, 0.04788349, 0.04788349, 0.04788349, 0.04788349,\n",
       "       0.04788349, 0.04788349, 0.04788349, 0.04788349, 0.04788349,\n",
       "       0.04788349, 0.04788349, 0.04788349, 0.04788349, 0.04788349,\n",
       "       0.04788349, 0.04788349, 0.04788349, 0.04788349, 0.04788349,\n",
       "       0.04788349, 0.04788349, 0.04788349, 0.04788349, 0.04788349,\n",
       "       0.04788349, 0.04788349, 0.04788349, 0.04788349, 0.04788349,\n",
       "       0.04788349, 0.04788349, 0.04788349, 0.04788349, 0.04788349,\n",
       "       0.04788349, 0.04788349, 0.04788349, 0.04788349, 0.04788349,\n",
       "       0.04788349, 0.04788349, 0.04788349, 0.04788349, 0.04788349,\n",
       "       0.04788349, 0.04788349, 0.04788349, 0.04788349, 0.04788349,\n",
       "       0.04788349, 0.04788349, 0.04788349, 0.04788349, 0.04788349,\n",
       "       0.04788349, 0.04788349, 0.04788349, 0.04788349, 0.04788349,\n",
       "       0.04788349, 0.04788349, 0.04788349, 0.04788349, 0.04788349,\n",
       "       0.04788349, 0.04788349, 0.04788349, 0.04788349, 0.04788349,\n",
       "       0.04788349, 0.04788349, 0.04788349, 0.04788349, 0.04788349,\n",
       "       0.04788349, 0.04788349, 0.04788349, 0.04788349, 0.04788349])"
      ]
     },
     "execution_count": 5,
     "metadata": {},
     "output_type": "execute_result"
    }
   ],
   "source": [
    "folder1 = \"./FS/FCNDE_PR/15min_fitnesspepe.npy\"\n",
    "    \n",
    "x_train = np.load(folder1,allow_pickle=True)\n",
    "x_train"
   ]
  },
  {
   "cell_type": "code",
   "execution_count": 6,
   "metadata": {},
   "outputs": [
    {
     "data": {
      "text/plain": [
       "sex                object\n",
       "race               object\n",
       "relationship       object\n",
       "marital_status     object\n",
       "workclas           object\n",
       "occupation         object\n",
       "education          object\n",
       "native_country     object\n",
       "education_num     float64\n",
       "age               float64\n",
       "capital_loss      float64\n",
       "hours_per_week    float64\n",
       "capital_gain      float64\n",
       "fnlwgt            float64\n",
       "Class               int64\n",
       "dtype: object"
      ]
     },
     "execution_count": 6,
     "metadata": {},
     "output_type": "execute_result"
    }
   ],
   "source": [
    "df = pd.read_csv('./datasets_origen/adult.csv',index_col=[0])\n",
    "df.dtypes"
   ]
  },
  {
   "cell_type": "code",
   "execution_count": 7,
   "metadata": {},
   "outputs": [
    {
     "name": "stderr",
     "output_type": "stream",
     "text": [
      "C:\\Users\\norao\\AppData\\Local\\Temp\\ipykernel_17484\\3537718828.py:17: SettingWithCopyWarning: \n",
      "A value is trying to be set on a copy of a slice from a DataFrame.\n",
      "Try using .loc[row_indexer,col_indexer] = value instead\n",
      "\n",
      "See the caveats in the documentation: https://pandas.pydata.org/pandas-docs/stable/user_guide/indexing.html#returning-a-view-versus-a-copy\n",
      "  df[c] = s_cut\n"
     ]
    }
   ],
   "source": [
    "# FALTA POR COMPROBAR TIPOS DE VALORES EN EL DF\n",
    "def transform_df(df):\n",
    "    k = 5\n",
    "    df.dropna(inplace=True)\n",
    "    df = df[(df != '?').all(1)]\n",
    "    columns_dtype_obj = [len(df[c].unique()) for c in list(df.columns) if is_string_dtype(df[c])]\n",
    "    columns_dtype_numeric = [c for c in list(df.columns) if is_numeric_dtype(df[c])]\n",
    "    if len(columns_dtype_numeric) > 0:\n",
    "        if len(columns_dtype_obj) > 0:\n",
    "            k = round(np.mean(columns_dtype_obj))\n",
    "        for c in columns_dtype_numeric:\n",
    "            if len(df[c].unique()) > k:\n",
    "                s_cut = pd.cut(df[c], bins=k)\n",
    "                first_I = s_cut.cat.categories[0]\n",
    "                new_I = pd.Interval(0, first_I.right)\n",
    "                s_cut = s_cut.cat.rename_categories({first_I: new_I})\n",
    "                df[c] = s_cut\n",
    "    df.to_csv('./datasets/adult.csv',index=False)\n",
    "transform_df(df)\n"
   ]
  },
  {
   "cell_type": "code",
   "execution_count": 26,
   "metadata": {},
   "outputs": [],
   "source": [
    "ALPHABET = np.array(list(string.ascii_lowercase))\n",
    "df = pd.read_csv('./datasets/coil2000.csv')\n",
    "numerics = ['int16', 'int32', 'int64', 'float16', 'float32', 'float64']\n",
    "col = list(df.select_dtypes(include=numerics).columns)\n",
    "unique_int_values = sorted(df[col].stack().unique())\n",
    "dictionary = dict(zip(unique_int_values, ALPHABET.tolist()[:len(unique_int_values)]))\n",
    "df.replace(dictionary,regex=True,inplace=True)\n",
    "df.to_csv('./datasets/coil2000.csv',index=False)"
   ]
  }
 ],
 "metadata": {
  "kernelspec": {
   "display_name": "venv",
   "language": "python",
   "name": "python3"
  },
  "language_info": {
   "codemirror_mode": {
    "name": "ipython",
    "version": 3
   },
   "file_extension": ".py",
   "mimetype": "text/x-python",
   "name": "python",
   "nbconvert_exporter": "python",
   "pygments_lexer": "ipython3",
   "version": "3.8.3"
  }
 },
 "nbformat": 4,
 "nbformat_minor": 2
}

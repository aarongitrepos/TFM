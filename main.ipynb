{
 "cells": [
  {
   "cell_type": "code",
   "execution_count": 1,
   "metadata": {},
   "outputs": [],
   "source": [
    "import pandas as pd\n",
    "import math\n",
    "from sklearn.metrics import mutual_info_score\n",
    "import numpy as np\n",
    "import math\n",
    "from sklearn import svm\n",
    "from sklearn.neighbors import KNeighborsClassifier\n",
    "from scipy.stats import entropy\n",
    "from sklearn.model_selection import cross_val_score\n",
    "import importlib"
   ]
  },
  {
   "cell_type": "code",
   "execution_count": 2,
   "metadata": {},
   "outputs": [
    {
     "data": {
      "text/plain": [
       "Cap-shape                   object\n",
       "Cap-surface                 object\n",
       "Cap-color                   object\n",
       "Bruises                     object\n",
       "Odor                        object\n",
       "Gill-attachment             object\n",
       "Gill-spacing                object\n",
       "Gill-size                   object\n",
       "Gill-color                  object\n",
       "Stalk-shape                 object\n",
       "Stalk-surface-above-ring    object\n",
       "Stalk-surface-below-ring    object\n",
       "Stalk-color-above-ring      object\n",
       "Stalk-color-below-ring      object\n",
       "Veil-type                   object\n",
       "Veil-color                  object\n",
       "Ring-number                 object\n",
       "Ring-type                   object\n",
       "Spore-print-color           object\n",
       "Population                  object\n",
       "Habitat                     object\n",
       "Class                       object\n",
       "dtype: object"
      ]
     },
     "execution_count": 2,
     "metadata": {},
     "output_type": "execute_result"
    }
   ],
   "source": [
    "name_df = \"mushrooms\"\n",
    "df = pd.read_csv(\"./datasets/\"+name_df+\".csv\")\n",
    "df = df.astype(str)\n",
    "df.dtypes"
   ]
  },
  {
   "cell_type": "code",
   "execution_count": 3,
   "metadata": {},
   "outputs": [],
   "source": [
    "def transform_df(df):\n",
    "    df_t = df.copy()\n",
    "    df_t.dropna(inplace=True)\n",
    "    columns = list(df_t.columns)\n",
    "    for c in columns:\n",
    "        unique_values = df_t[c].unique()\n",
    "        df_t[c].replace(unique_values,range(1,len(unique_values)+1),inplace=True)\n",
    "    return df_t"
   ]
  },
  {
   "cell_type": "code",
   "execution_count": 4,
   "metadata": {},
   "outputs": [
    {
     "data": {
      "text/plain": [
       "{'Cap-shape': 0,\n",
       " 'Cap-surface': 1,\n",
       " 'Cap-color': 2,\n",
       " 'Bruises': 3,\n",
       " 'Odor': 4,\n",
       " 'Gill-attachment': 5,\n",
       " 'Gill-spacing': 6,\n",
       " 'Gill-size': 7,\n",
       " 'Gill-color': 8,\n",
       " 'Stalk-shape': 9,\n",
       " 'Stalk-surface-above-ring': 10,\n",
       " 'Stalk-surface-below-ring': 11,\n",
       " 'Stalk-color-above-ring': 12,\n",
       " 'Stalk-color-below-ring': 13,\n",
       " 'Veil-type': 14,\n",
       " 'Veil-color': 15,\n",
       " 'Ring-number': 16,\n",
       " 'Ring-type': 17,\n",
       " 'Spore-print-color': 18,\n",
       " 'Population': 19,\n",
       " 'Habitat': 20}"
      ]
     },
     "execution_count": 4,
     "metadata": {},
     "output_type": "execute_result"
    }
   ],
   "source": [
    "df_processed = transform_df(df)\n",
    "instances = df_processed.shape[0]\n",
    "target = df_processed[\"Class\"] # Get target column\n",
    "features = df_processed.drop(\"Class\", axis=1) # Get features dataset without target column\n",
    "dict_features = {column: i for i, column in enumerate(features.columns)}\n",
    "dict_features"
   ]
  },
  {
   "cell_type": "code",
   "execution_count": 9,
   "metadata": {},
   "outputs": [],
   "source": [
    "# Function that calculate entropy\n",
    "def calculate_entropy(probs):\n",
    "    entropy = -sum([prob*math.log(prob) for prob in probs]) \n",
    "    return entropy\n",
    "\n",
    "def calculate_SU(X,Y):\n",
    "    # Calculate entropy for each variable. We need to get the value counts for each variable and calculate probabilities in order to compute entropy.\n",
    "    entropy_feature = entropy([value/instances for value in X.value_counts()])\n",
    "    # Calculate entropy for target variable\n",
    "    entropy_target = entropy([value/instances for value in Y.value_counts()])\n",
    "    \n",
    "    # Calculate mutual information between features and target variable\n",
    "    mutual_info_features_target = mutual_info_score(X, Y)\n",
    "    # Compute de SU between features and target. Saved in a list of tuples with form (feature, SU value)\n",
    "    SU = 2*mutual_info_features_target / (entropy_feature + entropy_target)\n",
    "    return SU\n"
   ]
  },
  {
   "cell_type": "markdown",
   "metadata": {},
   "source": [
    "### 1º paso: Eliminar aquellas variables cuyo SU(Xi,Y) sea menor que el threshold de los valores"
   ]
  },
  {
   "cell_type": "code",
   "execution_count": 10,
   "metadata": {},
   "outputs": [
    {
     "data": {
      "text/plain": [
       "{'Cap-shape': 0.0368005254052444,\n",
       " 'Cap-surface': 0.022209850307795632,\n",
       " 'Cap-color': 0.020545522828280715,\n",
       " 'Bruises': 0.19448033620905208,\n",
       " 'Odor': 0.5460779258983215,\n",
       " 'Gill-attachment': 0.024168343342506778,\n",
       " 'Gill-spacing': 0.12325778240100983,\n",
       " 'Gill-size': 0.24337908547768705,\n",
       " 'Gill-color': 0.20696237381017535,\n",
       " 'Stalk-shape': 0.0075697792076871405,\n",
       " 'Stalk-surface-above-ring': 0.25646151328985767,\n",
       " 'Stalk-surface-below-ring': 0.226748557331665,\n",
       " 'Stalk-color-above-ring': 0.1729263153661067,\n",
       " 'Stalk-color-below-ring': 0.16217457008666625,\n",
       " 'Veil-type': 0.0,\n",
       " 'Veil-color': 0.03985090391574468,\n",
       " 'Ring-number': 0.05416830043027027,\n",
       " 'Ring-type': 0.25098480442071186,\n",
       " 'Spore-print-color': 0.30022524254940297,\n",
       " 'Population': 0.13452809448251174,\n",
       " 'Habitat': 0.09581091169526226}"
      ]
     },
     "execution_count": 10,
     "metadata": {},
     "output_type": "execute_result"
    }
   ],
   "source": [
    "dict_SU_features_target = {feature: calculate_SU(df_processed[feature], target) for feature in features}\n",
    "dict_SU_features_target"
   ]
  },
  {
   "cell_type": "code",
   "execution_count": 11,
   "metadata": {},
   "outputs": [
    {
     "data": {
      "text/plain": [
       "{'Odor': 0.5460779258983215,\n",
       " 'Spore-print-color': 0.30022524254940297,\n",
       " 'Stalk-surface-above-ring': 0.25646151328985767,\n",
       " 'Ring-type': 0.25098480442071186,\n",
       " 'Gill-size': 0.24337908547768705,\n",
       " 'Stalk-surface-below-ring': 0.226748557331665,\n",
       " 'Gill-color': 0.20696237381017535,\n",
       " 'Bruises': 0.19448033620905208,\n",
       " 'Stalk-color-above-ring': 0.1729263153661067,\n",
       " 'Stalk-color-below-ring': 0.16217457008666625,\n",
       " 'Population': 0.13452809448251174,\n",
       " 'Gill-spacing': 0.12325778240100983,\n",
       " 'Habitat': 0.09581091169526226}"
      ]
     },
     "execution_count": 11,
     "metadata": {},
     "output_type": "execute_result"
    }
   ],
   "source": [
    "max_SU = max(dict_SU_features_target.values())\n",
    "number_features = features.shape[1]\n",
    "value = round(number_features / math.log(number_features))\n",
    "SU_th = list(dict_SU_features_target.values())[value]\n",
    "threshold_filter = min(0.1*max_SU,SU_th)\n",
    "dict_SU_features_target_filter = {k:v for k,v in dict_SU_features_target.items() if v >= threshold_filter}\n",
    "dict_SU_features_target_filter = dict(sorted(dict_SU_features_target_filter.items(), key=lambda item: item[1], reverse=True))\n",
    "dict_SU_features_target_filter"
   ]
  },
  {
   "cell_type": "markdown",
   "metadata": {},
   "source": [
    "### SUBGROUP DISCOVERY"
   ]
  },
  {
   "cell_type": "code",
   "execution_count": 20,
   "metadata": {},
   "outputs": [],
   "source": [
    "from SD import algorithm as algorithm\n",
    "from SD.utils import measures as measures\n",
    "from SD.utils import subgroup as subgroup"
   ]
  },
  {
   "cell_type": "code",
   "execution_count": 21,
   "metadata": {},
   "outputs": [],
   "source": [
    "index_columns = list(dict_SU_features_target_filter.keys())\n",
    "index_columns.append(\"Class\")\n",
    "df = df.loc[:,index_columns]"
   ]
  },
  {
   "cell_type": "code",
   "execution_count": 23,
   "metadata": {},
   "outputs": [
    {
     "name": "stdout",
     "output_type": "stream",
     "text": [
      "Iteration 0 of 13. Number of patterns: 1\n",
      "Iteration 1 of 13. Number of patterns: 16\n",
      "Iteration 2 of 13. Number of patterns: 63\n",
      "Iteration 3 of 13. Number of patterns: 13\n",
      "Iteration 4 of 13. Number of patterns: 7\n",
      "Iteration 0 of 13. Number of patterns: 1\n",
      "Iteration 1 of 13. Number of patterns: 16\n",
      "Iteration 2 of 13. Number of patterns: 56\n",
      "Iteration 3 of 13. Number of patterns: 37\n",
      "Iteration 4 of 13. Number of patterns: 15\n"
     ]
    }
   ],
   "source": [
    "importlib.reload(algorithm)\n",
    "importlib.reload(measures)\n",
    "importlib.reload(subgroup)\n",
    "\n",
    "searchspace = algorithm.create_nominal_selectors(df)\n",
    "a = []\n",
    "for target in df[\"Class\"].unique():\n",
    "        target = [\"Class\", target]\n",
    "        #print(\"Class: {}\".format(target[1]))\n",
    "        task = algorithm.SubgroupDiscoveryTask (\n",
    "                df, \n",
    "                target, \n",
    "                searchspace,\n",
    "                name_df, \n",
    "                depth=df.shape[1]-1,\n",
    "                alpha = 1)\n",
    "        df_aux = algorithm.SubgoupDiscoverySearch().execute(task)\n",
    "        df_aux.to_csv(\"./results/\"+str(name_df)+\"/FS/igsd_FS_\"+str(target[1])+\".csv\",index=False)\n",
    "        # results = algorithm.SubgoupDiscoverySearch().execute(task)\n",
    "        # a.append(results)\n",
    "#df_aux = pd.DataFrame(a,columns = [\"time\",\"target\",\"size\",\"length\",\"redundancy\",\"wracc\",\"coverage\",\"confidence\",\"odd\"])\n",
    "#df_aux.to_csv(\"./results/\"+str(name_df)+\"/FS/igsd_FS_test.csv\",index=False)\n",
    "        "
   ]
  }
 ],
 "metadata": {
  "kernelspec": {
   "display_name": "venv",
   "language": "python",
   "name": "python3"
  },
  "language_info": {
   "codemirror_mode": {
    "name": "ipython",
    "version": 3
   },
   "file_extension": ".py",
   "mimetype": "text/x-python",
   "name": "python",
   "nbconvert_exporter": "python",
   "pygments_lexer": "ipython3",
   "version": "3.8.3"
  }
 },
 "nbformat": 4,
 "nbformat_minor": 2
}
